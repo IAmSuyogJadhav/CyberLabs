{
  "nbformat": 4,
  "nbformat_minor": 0,
  "metadata": {
    "colab": {
      "name": "train_car_horn_detection.ipynb",
      "version": "0.3.2",
      "provenance": [],
      "collapsed_sections": [],
      "include_colab_link": true
    },
    "kernelspec": {
      "name": "python3",
      "display_name": "Python 3"
    },
    "accelerator": "GPU"
  },
  "cells": [
    {
      "cell_type": "markdown",
      "metadata": {
        "id": "view-in-github",
        "colab_type": "text"
      },
      "source": [
        "[![Open In Colab](https://colab.research.google.com/assets/colab-badge.svg)](https://colab.research.google.com/github/IAmSuyogJadhav/WalkSafe/blob/master/train_car_horn_detection.ipynb)"
      ]
    },
    {
      "metadata": {
        "id": "qgDn9otBDW5U",
        "colab_type": "text"
      },
      "cell_type": "markdown",
      "source": [
        "# Car Horn Detection"
      ]
    },
    {
      "metadata": {
        "id": "bvI0gtweb1Ev",
        "colab_type": "text"
      },
      "cell_type": "markdown",
      "source": [
        "## Get the Dataset\n",
        "- TODO:\n",
        "  * <input type=\"checkbox\" checked> Download the dataset.\n",
        "  * <input type=\"checkbox\" checked> Extract all the parts\n",
        "  * <input type=\"checkbox\"> Read the files and preprocess them\n",
        "  * <input type=\"checkbox\"> Dump in a Numpy pickle (.npy) file."
      ]
    },
    {
      "metadata": {
        "id": "w7CsCct2hrQV",
        "colab_type": "text"
      },
      "cell_type": "markdown",
      "source": [
        "### Download the dataset"
      ]
    },
    {
      "metadata": {
        "id": "HE_ik_cNikd_",
        "colab_type": "text"
      },
      "cell_type": "markdown",
      "source": [
        ""
      ]
    },
    {
      "metadata": {
        "id": "W_pG6SLGDEKQ",
        "colab_type": "code",
        "colab": {
          "base_uri": "https://localhost:8080/",
          "height": 204
        },
        "outputId": "fd3f5a99-5a12-4bda-efd3-4b34dca90f47"
      },
      "cell_type": "code",
      "source": [
        "!wget https://zenodo.org/record/1203745/files/UrbanSound8K.tar.gz -O urban8k.tgz"
      ],
      "execution_count": 1,
      "outputs": [
        {
          "output_type": "stream",
          "text": [
            "--2018-10-18 14:11:04--  https://zenodo.org/record/1203745/files/UrbanSound8K.tar.gz\n",
            "Resolving zenodo.org (zenodo.org)... 137.138.76.77\n",
            "Connecting to zenodo.org (zenodo.org)|137.138.76.77|:443... connected.\n",
            "HTTP request sent, awaiting response... 200 OK\n",
            "Length: 6023741708 (5.6G) [application/octet-stream]\n",
            "Saving to: ‘urban8k.tgz’\n",
            "\n",
            "urban8k.tgz         100%[===================>]   5.61G  38.3MB/s    in 2m 10s  \n",
            "\n",
            "2018-10-18 14:13:14 (44.3 MB/s) - ‘urban8k.tgz’ saved [6023741708/6023741708]\n",
            "\n"
          ],
          "name": "stdout"
        }
      ]
    },
    {
      "metadata": {
        "id": "O-mHE3l3hhot",
        "colab_type": "text"
      },
      "cell_type": "markdown",
      "source": [
        "### Extract it"
      ]
    },
    {
      "metadata": {
        "id": "yg6qK8_5gyw1",
        "colab_type": "code",
        "colab": {}
      },
      "cell_type": "code",
      "source": [
        "!tar -xzf urban8k.tgz"
      ],
      "execution_count": 0,
      "outputs": []
    },
    {
      "metadata": {
        "id": "FyEAQklahgBl",
        "colab_type": "code",
        "colab": {
          "base_uri": "https://localhost:8080/",
          "height": 2094
        },
        "outputId": "c6ba30a2-0452-4539-b5b0-0595003c5efc"
      },
      "cell_type": "code",
      "source": [
        "!cat UrbanSound8K/UrbanSound8K_README.txt"
      ],
      "execution_count": 7,
      "outputs": [
        {
          "output_type": "stream",
          "text": [
            "UrbanSound8K\r\n",
            "============\r\n",
            "\r\n",
            "Created By\r\n",
            "----------\r\n",
            "\r\n",
            "Justin Salamon*^, Christopher Jacoby* and Juan Pablo Bello*\r\n",
            "* Music and Audio Research Lab (MARL), New York University, USA\r\n",
            "^ Center for Urban Science and Progress (CUSP), New York University, USA\r\n",
            "http://serv.cusp.nyu.edu/projects/urbansounddataset\r\n",
            "http://marl.smusic.nyu.edu/\r\n",
            "http://cusp.nyu.edu/\r\n",
            "\r\n",
            "Version 1.0\r\n",
            "\r\n",
            "\r\n",
            "Description\r\n",
            "-----------\r\n",
            "\r\n",
            "This dataset contains 8732 labeled sound excerpts (<=4s) of urban sounds from 10 classes: air_conditioner, car_horn, \r\n",
            "children_playing, dog_bark, drilling, engine_idling, gun_shot, jackhammer, siren, and street_music. The classes are \r\n",
            "drawn from the urban sound taxonomy described in the following article, which also includes a detailed description of \r\n",
            "the dataset and how it was compiled:\r\n",
            "\r\n",
            "J. Salamon, C. Jacoby and J. P. Bello, \"A Dataset and Taxonomy for Urban Sound Research\", \r\n",
            "22nd ACM International Conference on Multimedia, Orlando USA, Nov. 2014.\r\n",
            "\r\n",
            "All excerpts are taken from field recordings uploaded to www.freesound.org. The files are pre-sorted into ten folds\r\n",
            "(folders named fold1-fold10) to help in the reproduction of and comparison with the automatic classification results\r\n",
            "reported in the article above.\r\n",
            "\r\n",
            "In addition to the sound excerpts, a CSV file containing metadata about each excerpt is also provided.\r\n",
            "\r\n",
            "\r\n",
            "Audio Files Included\r\n",
            "--------------------\r\n",
            "\r\n",
            "8732 audio files of urban sounds (see description above) in WAV format. The sampling rate, bit depth, and number of \r\n",
            "channels are the same as those of the original file uploaded to Freesound (and hence may vary from file to file).\r\n",
            "\r\n",
            "\r\n",
            "Meta-data Files Included\r\n",
            "------------------------\r\n",
            "\r\n",
            "UrbanSound8k.csv\r\n",
            "\r\n",
            "This file contains meta-data information about every audio file in the dataset. This includes:\r\n",
            "\r\n",
            "* slice_file_name: \r\n",
            "The name of the audio file. The name takes the following format: [fsID]-[classID]-[occurrenceID]-[sliceID].wav, where:\r\n",
            "[fsID] = the Freesound ID of the recording from which this excerpt (slice) is taken\r\n",
            "[classID] = a numeric identifier of the sound class (see description of classID below for further details)\r\n",
            "[occurrenceID] = a numeric identifier to distinguish different occurrences of the sound within the original recording\r\n",
            "[sliceID] = a numeric identifier to distinguish different slices taken from the same occurrence\r\n",
            "\r\n",
            "* fsID:\r\n",
            "The Freesound ID of the recording from which this excerpt (slice) is taken\r\n",
            "\r\n",
            "* start\r\n",
            "The start time of the slice in the original Freesound recording\r\n",
            "\r\n",
            "* end:\r\n",
            "The end time of slice in the original Freesound recording\r\n",
            "\r\n",
            "* salience:\r\n",
            "A (subjective) salience rating of the sound. 1 = foreground, 2 = background.\r\n",
            "\r\n",
            "* fold:\r\n",
            "The fold number (1-10) to which this file has been allocated.\r\n",
            "\r\n",
            "* classID:\r\n",
            "A numeric identifier of the sound class:\r\n",
            "0 = air_conditioner\r\n",
            "1 = car_horn\r\n",
            "2 = children_playing\r\n",
            "3 = dog_bark\r\n",
            "4 = drilling\r\n",
            "5 = engine_idling\r\n",
            "6 = gun_shot\r\n",
            "7 = jackhammer\r\n",
            "8 = siren\r\n",
            "9 = street_music\r\n",
            "\r\n",
            "* class:\r\n",
            "The class name: air_conditioner, car_horn, children_playing, dog_bark, drilling, engine_idling, gun_shot, jackhammer, \r\n",
            "siren, street_music.\r\n",
            "\r\n",
            "\r\n",
            "Please Acknowledge UrbanSound8K in Academic Research\r\n",
            "----------------------------------------------------\r\n",
            "\r\n",
            "When UrbanSound8K is used for academic research, we would highly appreciate it if scientific publications of works \r\n",
            "partly based on the UrbanSound8K dataset cite the following publication:\r\n",
            "\r\n",
            "J. Salamon, C. Jacoby and J. P. Bello, \"A Dataset and Taxonomy for Urban Sound Research\", \r\n",
            "22nd ACM International Conference on Multimedia, Orlando USA, Nov. 2014.\r\n",
            "\r\n",
            "The creation of this dataset was supported by a seed grant by NYU's Center for Urban Science and Progress (CUSP).\r\n",
            "\r\n",
            "\r\n",
            "Conditions of Use\r\n",
            "-----------------\r\n",
            "\r\n",
            "Dataset compiled by Justin Salamon, Christopher Jacoby and Juan Pablo Bello. All files are excerpts of recordings\r\n",
            "uploaded to www.freesound.org. Please see FREESOUNDCREDITS.txt for an attribution list.\r\n",
            " \r\n",
            "The UrbanSound8K dataset is offered free of charge for non-commercial use only under the terms of the Creative Commons\r\n",
            "Attribution Noncommercial License (by-nc), version 3.0: http://creativecommons.org/licenses/by-nc/3.0/\r\n",
            " \r\n",
            "The dataset and its contents are made available on an \"as is\" basis and without warranties of any kind, including \r\n",
            "without limitation satisfactory quality and conformity, merchantability, fitness for a particular purpose, accuracy or \r\n",
            "completeness, or absence of errors. Subject to any liability that may not be excluded or limited by law, NYU is not \r\n",
            "liable for, and expressly excludes, all liability for loss or damage however and whenever caused to anyone by any use of\r\n",
            "the UrbanSound8K dataset or any part of it.\r\n",
            "\r\n",
            "\r\n",
            "Feedback\r\n",
            "--------\r\n",
            "\r\n",
            "Please help us improve UrbanSound8K by sending your feedback to: justin.salamon@nyu.edu or justin.salamon@gmail.com\r\n",
            "In case of a problem report please include as many details as possible.\r\n"
          ],
          "name": "stdout"
        }
      ]
    },
    {
      "metadata": {
        "id": "SEtQ7bwFiiaw",
        "colab_type": "code",
        "colab": {}
      },
      "cell_type": "code",
      "source": [
        ""
      ],
      "execution_count": 0,
      "outputs": []
    }
  ]
}