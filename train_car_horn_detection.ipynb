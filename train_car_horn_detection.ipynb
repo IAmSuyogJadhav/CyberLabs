{
  "nbformat": 4,
  "nbformat_minor": 0,
  "metadata": {
    "colab": {
      "name": "train_car_horn_detection.ipynb",
      "version": "0.3.2",
      "provenance": [],
      "collapsed_sections": [],
      "include_colab_link": true
    },
    "kernelspec": {
      "name": "python3",
      "display_name": "Python 3"
    }
  },
  "cells": [
    {
      "cell_type": "markdown",
      "metadata": {
        "id": "view-in-github",
        "colab_type": "text"
      },
      "source": [
        "[![Open In Colab](https://colab.research.google.com/assets/colab-badge.svg)](https://colab.research.google.com/github/IAmSuyogJadhav/WalkSafe/blob/master/train_car_horn_detection.ipynb)"
      ]
    },
    {
      "metadata": {
        "id": "qgDn9otBDW5U",
        "colab_type": "text"
      },
      "cell_type": "markdown",
      "source": [
        "# Car Horn Detection"
      ]
    },
    {
      "metadata": {
        "id": "bvI0gtweb1Ev",
        "colab_type": "text"
      },
      "cell_type": "markdown",
      "source": [
        "## Get the Dataset\n",
        "- TODO:\n",
        "  * Download the dataset.\n",
        "  * Extract all the parts\n",
        "  * Read the files and preprocess them\n",
        "  * Dump in a Numpy pickle (.npy) file.\n",
        "- Done:\n",
        " "
      ]
    },
    {
      "metadata": {
        "id": "W_pG6SLGDEKQ",
        "colab_type": "code",
        "colab": {}
      },
      "cell_type": "code",
      "source": [
        ""
      ],
      "execution_count": 0,
      "outputs": []
    }
  ]
}