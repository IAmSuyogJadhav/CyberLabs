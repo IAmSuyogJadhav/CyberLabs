{
  "nbformat": 4,
  "nbformat_minor": 0,
  "metadata": {
    "colab": {
      "name": "train_walksafe.ipynb",
      "version": "0.3.2",
      "provenance": [],
      "collapsed_sections": []
    },
    "kernelspec": {
      "name": "python3",
      "display_name": "Python 3"
    },
    "accelerator": "GPU"
  },
  "cells": [
    {
      "metadata": {
        "colab_type": "text",
        "id": "FFhGy0xXAPON"
      },
      "cell_type": "markdown",
      "source": [
        "# Sound Direction Estimation"
      ]
    },
    {
      "metadata": {
        "colab_type": "text",
        "id": "PGxHz2YTAPGB"
      },
      "cell_type": "markdown",
      "source": [
        "## Getting the data\n",
        "- TODO:\n",
        "  * Extract all the parts\n",
        "  * Read the files and preprocess them\n",
        "  * Dump in a Numpy pickle (.npy) file.\n",
        "- Done:\n",
        "  * Added the code to automatically download all the parts of  `CAMIL` dataset.\n"
      ]
    },
    {
      "metadata": {
        "colab_type": "code",
        "id": "UbIkiFLXAPCU",
        "colab": {}
      },
      "cell_type": "code",
      "source": [
        "# Download all the parts of the dataset\n",
        "import subprocess\n",
        "for i in range(1, 19):\n",
        "  subprocess.Popen(['wget', f'http://perception.inrialpes.fr/Free_Access_Data/Data/CAMIL_Dataset/Data/Version01/the_CAMIL_dataset_part{i}.tar.gz', \n",
        "                    '-O', f'CAMIL_01_part{i}.tar.gz'])\n"
      ],
      "execution_count": 0,
      "outputs": []
    },
    {
      "metadata": {
        "id": "zuLcW4Hwu66n",
        "colab_type": "code",
        "colab": {}
      },
      "cell_type": "code",
      "source": [
        ""
      ],
      "execution_count": 0,
      "outputs": []
    }
  ]
}