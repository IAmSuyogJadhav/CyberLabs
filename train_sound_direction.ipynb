{
  "nbformat": 4,
  "nbformat_minor": 0,
  "metadata": {
    "colab": {
      "name": "train_walksafe.ipynb",
      "version": "0.3.2",
      "provenance": [],
      "collapsed_sections": [],
      "include_colab_link": true
    },
    "kernelspec": {
      "name": "python3",
      "display_name": "Python 3"
    },
    "accelerator": "GPU"
  },
  "cells": [
    {
      "cell_type": "markdown",
      "metadata": {
        "id": "view-in-github",
        "colab_type": "text"
      },
      "source": [
        "[![Open In Colab](https://colab.research.google.com/assets/colab-badge.svg)](https://colab.research.google.com/github/IAmSuyogJadhav/WalkSafe/blob/master/train_sound_direction.ipynb)"
      ]
    },
    {
      "metadata": {
        "id": "LFq7v8ZNtJDy",
        "colab_type": "text"
      },
      "cell_type": "markdown",
      "source": [
        "# Old code"
      ]
    },
    {
      "metadata": {
        "id": "pGXeZ0hTn4xb",
        "colab_type": "code",
        "colab": {}
      },
      "cell_type": "code",
      "source": [
        "import keras\n",
        "from keras import layers as ll"
      ],
      "execution_count": 0,
      "outputs": []
    },
    {
      "metadata": {
        "id": "1GifeWV5eaUD",
        "colab_type": "code",
        "colab": {}
      },
      "cell_type": "code",
      "source": [
        "import tensorflow as tf\n",
        "from tensorflow.python.framework import function  # For constructing a custom tensorflow operation"
      ],
      "execution_count": 0,
      "outputs": []
    },
    {
      "metadata": {
        "id": "PKq6EAQVzTe4",
        "colab_type": "code",
        "outputId": "7a940e36-c4fb-44e1-b845-7517a3a60cb5",
        "colab": {
          "base_uri": "https://localhost:8080/",
          "height": 104
        }
      },
      "cell_type": "code",
      "source": [
        "@function.Defun(tf.float32, tf.float32)  # This is how you define a custom tf operation\n",
        "def norm_grad(x, dy):\n",
        "  \"\"\"\n",
        "  Returns the correct gradient of the tf.norm function. \n",
        "  Acts as a workaround for combatting the problem with tf.norm as described here:\n",
        "  (https://github.com/tensorflow/tensorflow/issues/12071)\n",
        "  \"\"\"\n",
        "  return dy*(x/tf.norm(x))\n",
        "\n",
        "@function.Defun(tf.float32, grad_func=norm_grad)  # The grad_func argument is used t define the gradient of your custom operation\n",
        "def norm(x):\n",
        "  \"\"\"\n",
        "  Just a wrapper for tf.norm, to combat the problem with gradients it has.\n",
        "  \"\"\"\n",
        "  return tf.norm(x, axis=1)  # Hardcoded to return along axis 1 due to tensorflow function limitations\n",
        "\n",
        "\n",
        "def contrastive_loss(x1=None, x2=None, y=None, w=None, margin=0.5):\n",
        "  \"\"\"\n",
        "  Calculates the contrastive loss between two inputs\n",
        "  according to the method described in section 2.1 in this paper:\n",
        "  (http://yann.lecun.com/exdb/publis/pdf/hadsell-chopra-lecun-06.pdf)  \n",
        "  \"\"\"\n",
        "  \n",
        "  # Calculate Euclidean distance\n",
        "  Dw = norm(x1-x2)  # along axis=1\n",
        "  \n",
        "  sess = tf.Session()\n",
        "  grad = tf.gradients(Dw, [x1, x2])\n",
        "  print(sess.run(Dw))\n",
        "  print(sess.run(grad))\n",
        "  loss = 0.5 * (1 - y)  # TODO: Implement this\n",
        "\n",
        "# Test the cost function\n",
        "x1 = tf.cast(tf.constant(\n",
        "      [[1, 1], [4, 4]]), dtype=tf.float32)\n",
        "x2 = tf.cast(tf.constant(\n",
        "      [[2, 2], [4, 4]]), dtype=tf.float32)\n",
        "y = tf.cast(tf.constant([1, 0]), tf.float32)  # 1 for dissimilar, 0 for similar\n",
        "contrastive_loss()"
      ],
      "execution_count": 0,
      "outputs": [
        {
          "output_type": "stream",
          "text": [
            "[1.4142135 0.       ]\n",
            "[array([[-0.70710677, -0.70710677],\n",
            "       [ 0.        ,  0.        ]], dtype=float32), array([[ 0.70710677,  0.70710677],\n",
            "       [-0.        , -0.        ]], dtype=float32)]\n"
          ],
          "name": "stdout"
        }
      ]
    },
    {
      "metadata": {
        "id": "ag49ekh-tQNu",
        "colab_type": "text"
      },
      "cell_type": "markdown",
      "source": [
        "# New Code"
      ]
    },
    {
      "metadata": {
        "id": "LiyHxlkVwu9f",
        "colab_type": "text"
      },
      "cell_type": "markdown",
      "source": [
        "## Getting Dataset"
      ]
    },
    {
      "metadata": {
        "id": "zNuiicySwxPE",
        "colab_type": "code",
        "colab": {}
      },
      "cell_type": "code",
      "source": [
        "# Download all the parts of the dataset\n",
        "import subprocess\n",
        "for i in range(1, 19):\n",
        "  subprocess.Popen(['wget', f'http://perception.inrialpes.fr/Free_Access_Data/Data/CAMIL_Dataset/Data/Version01/the_CAMIL_dataset_part{i}.tar.gz', \n",
        "                    '-O', f'CAMIL_01_part{i}.tar.gz'])\n",
        "\n",
        "# TODO:\n",
        "#    1. Extract all the parts, read the files, preprocess them and dump in a Numpy pickle (.npy) file."
      ],
      "execution_count": 0,
      "outputs": []
    },
    {
      "metadata": {
        "id": "f82qiSM9f6Ln",
        "colab_type": "code",
        "outputId": "56a2ae78-ff3e-4768-acf8-ad4247c4e7ca",
        "colab": {
          "base_uri": "https://localhost:8080/",
          "height": 34
        }
      },
      "cell_type": "code",
      "source": [
        "import tensorflow as tf\n"
      ],
      "execution_count": 0,
      "outputs": [
        {
          "output_type": "execute_result",
          "data": {
            "text/plain": [
              "array([ 0, -1, -2], dtype=int32)"
            ]
          },
          "metadata": {
            "tags": []
          },
          "execution_count": 41
        }
      ]
    },
    {
      "metadata": {
        "id": "UNPd2_YSuU9o",
        "colab_type": "code",
        "colab": {}
      },
      "cell_type": "code",
      "source": [
        ""
      ],
      "execution_count": 0,
      "outputs": []
    },
    {
      "metadata": {
        "id": "zuLcW4Hwu66n",
        "colab_type": "code",
        "colab": {}
      },
      "cell_type": "code",
      "source": [
        ""
      ],
      "execution_count": 0,
      "outputs": []
    }
  ]
}