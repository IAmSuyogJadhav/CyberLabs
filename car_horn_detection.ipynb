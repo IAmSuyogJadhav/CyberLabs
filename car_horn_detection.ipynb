{
 "cells": [
  {
   "cell_type": "markdown",
   "metadata": {},
   "source": [
    "# Import helper Functions"
   ]
  },
  {
   "cell_type": "code",
   "execution_count": 1,
   "metadata": {},
   "outputs": [],
   "source": [
    "import td_utils"
   ]
  },
  {
   "cell_type": "code",
   "execution_count": 2,
   "metadata": {},
   "outputs": [
    {
     "data": {
      "text/plain": [
       "<tensorflow.python.client.session.InteractiveSession at 0x7f86e3a6f470>"
      ]
     },
     "execution_count": 2,
     "metadata": {},
     "output_type": "execute_result"
    }
   ],
   "source": [
    "import tensorflow as tf\n",
    "tf.InteractiveSession()"
   ]
  },
  {
   "cell_type": "markdown",
   "metadata": {},
   "source": [
    "# Loading the raw wav files and dumping into Numpy pickle"
   ]
  },
  {
   "cell_type": "code",
   "execution_count": null,
   "metadata": {},
   "outputs": [],
   "source": [
    "import os\n",
    "import numpy as np\n",
    "import tensorflow as tf\n",
    "import re\n",
    "\n",
    "dataset_path = 'training_data/'\n",
    "labels_path = 'labels/'\n",
    "\n",
    "data_files = os.listdir(dataset_path)\n",
    "label_files = os.listdir(labels_path)\n",
    "\n",
    "tf.InteractiveSession()  # Start an interactive session\n",
    "\n",
    "data = np.zeros(len(data_files))  # To store the dataset\n",
    "labels = np.zeros(len(label_files))  # To store the labels\n",
    "\n",
    "for i, audio in enumerate(data_files):\n",
    "    idx = re.find()\n",
    "    rate, audio_data= td_utils.get_wav_info(dataset_path + audio)\n",
    "    data[i] = audio_data.eval()\n",
    "    labels[i] = np.load(labels_path + str(idx) + '.npy')"
   ]
  },
  {
   "cell_type": "code",
   "execution_count": 3,
   "metadata": {},
   "outputs": [],
   "source": [
    "?td_utils.graph_spectrogram"
   ]
  },
  {
   "cell_type": "code",
   "execution_count": 3,
   "metadata": {},
   "outputs": [],
   "source": [
    "import pandas as pd"
   ]
  },
  {
   "cell_type": "code",
   "execution_count": null,
   "metadata": {},
   "outputs": [],
   "source": [
    "shapes = []\n",
    "for i in range(2501):\n",
    "    try:\n",
    "        shapes.append(td_utils.get_wav_info(f'training_data/train{i}.wav')[1].eval().shape)\n",
    "        print(f'\\r{i}', end='')\n",
    "    except:\n",
    "        print('passed')\n",
    "        pass\n",
    "\n",
    "shapes = pd.DataFrame(shapes)\n",
    "shapes.nunique()"
   ]
  },
  {
   "cell_type": "code",
   "execution_count": 4,
   "metadata": {},
   "outputs": [
    {
     "data": {
      "text/plain": [
       "(88200, 2)"
      ]
     },
     "execution_count": 4,
     "metadata": {},
     "output_type": "execute_result"
    }
   ],
   "source": [
    "td_utils.get_wav_info('training_data/train90.wav')[1].eval().shape"
   ]
  },
  {
   "cell_type": "code",
   "execution_count": 5,
   "metadata": {},
   "outputs": [
    {
     "data": {
      "text/plain": [
       "array([], shape=(40000, 0, 1), dtype=float32)"
      ]
     },
     "execution_count": 5,
     "metadata": {},
     "output_type": "execute_result"
    }
   ],
   "source": [
    "td_utils.graph_spectrogram('training_data/train0.wav'\n",
    "                           ,\n",
    "                           window_length=10,\n",
    "                          step_size=20,\n",
    "                          sampling_frequency=20000,\n",
    "                          fft_length=1).eval()"
   ]
  },
  {
   "cell_type": "code",
   "execution_count": null,
   "metadata": {},
   "outputs": [],
   "source": []
  }
 ],
 "metadata": {
  "kernelspec": {
   "display_name": "Python 3",
   "language": "python",
   "name": "python3"
  },
  "language_info": {
   "codemirror_mode": {
    "name": "ipython",
    "version": 3
   },
   "file_extension": ".py",
   "mimetype": "text/x-python",
   "name": "python",
   "nbconvert_exporter": "python",
   "pygments_lexer": "ipython3",
   "version": "3.6.4"
  }
 },
 "nbformat": 4,
 "nbformat_minor": 2
}
