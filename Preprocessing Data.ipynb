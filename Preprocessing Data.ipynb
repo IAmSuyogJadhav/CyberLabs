{
 "cells": [
  {
   "cell_type": "code",
   "execution_count": 1,
   "metadata": {},
   "outputs": [
    {
     "data": {
      "text/plain": [
       "<tensorflow.python.client.session.InteractiveSession at 0x7fb1b5317240>"
      ]
     },
     "execution_count": 1,
     "metadata": {},
     "output_type": "execute_result"
    }
   ],
   "source": [
    "from utils import *\n",
    "import numpy as np\n",
    "import tensorflow as tf\n",
    "tf.InteractiveSession()"
   ]
  },
  {
   "cell_type": "code",
   "execution_count": 2,
   "metadata": {},
   "outputs": [],
   "source": [
    "x = []\n",
    "for i in range(1,2501):\n",
    "    x.append(\"./training_data/train\"+str(i)+\".wav\")"
   ]
  },
  {
   "cell_type": "code",
   "execution_count": 3,
   "metadata": {},
   "outputs": [],
   "source": [
    "y = np.load(\"./training_data/y.npy\")\n",
    "y_ = []\n",
    "for yi in y:\n",
    "    y_.append(yi.T)\n",
    "y = y_"
   ]
  },
  {
   "cell_type": "code",
   "execution_count": 4,
   "metadata": {},
   "outputs": [
    {
     "name": "stdout",
     "output_type": "stream",
     "text": [
      "Done: 100.0\n"
     ]
    }
   ],
   "source": [
    "from IPython.display import clear_output\n",
    "batch_size = 100\n",
    "x_ = []\n",
    "for i in range(1,2501):\n",
    "    x_.append(graph_spectrogram(x[i-1])[0].eval())\n",
    "    clear_output()\n",
    "    if(i%batch_size==0):\n",
    "        idx = i//batch_size\n",
    "        np.save(f\"./_data/x{idx}.npy\",x_)\n",
    "        np.save(f\"./_data/y{idx}.npy\",y[idx*batch_size:(idx+1)*batch_size])\n",
    "        x_ = []\n",
    "    print(\"Done:\",i/25)"
   ]
  },
  {
   "cell_type": "code",
   "execution_count": null,
   "metadata": {},
   "outputs": [],
   "source": []
  }
 ],
 "metadata": {
  "kernelspec": {
   "display_name": "Python 3",
   "language": "python",
   "name": "python3"
  },
  "language_info": {
   "codemirror_mode": {
    "name": "ipython",
    "version": 3
   },
   "file_extension": ".py",
   "mimetype": "text/x-python",
   "name": "python",
   "nbconvert_exporter": "python",
   "pygments_lexer": "ipython3",
   "version": "3.6.6"
  }
 },
 "nbformat": 4,
 "nbformat_minor": 2
}
